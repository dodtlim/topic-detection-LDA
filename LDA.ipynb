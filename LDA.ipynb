{
 "cells": [
  {
   "cell_type": "markdown",
   "metadata": {},
   "source": [
    "# Topic Detection with LDA"
   ]
  },
  {
   "cell_type": "markdown",
   "metadata": {},
   "source": [
    "## [0] Pre-requisites\n",
    "\n",
    "[0.1] __Download Stopwords__\n"
   ]
  },
  {
   "cell_type": "code",
   "execution_count": 1,
   "metadata": {},
   "outputs": [
    {
     "name": "stderr",
     "output_type": "stream",
     "text": [
      "[nltk_data] Downloading package stopwords to /home/oso/nltk_data...\n",
      "[nltk_data]   Package stopwords is already up-to-date!\n"
     ]
    }
   ],
   "source": [
    "import nltk; nltk.download('stopwords');"
   ]
  },
  {
   "cell_type": "markdown",
   "metadata": {},
   "source": [
    "[0.2] __Imports__"
   ]
  },
  {
   "cell_type": "code",
   "execution_count": 12,
   "metadata": {},
   "outputs": [],
   "source": [
    "import re\n",
    "import numpy as np\n",
    "import pandas as pd\n",
    "from pprint import pprint\n",
    "\n",
    "# Gensim\n",
    "import gensim\n",
    "from gensim.models.ldamodel import LdaModel\n",
    "\"\"\"library for topic modelling, document indexing and similarity\n",
    "retrieval with large corpora.\n",
    "\"\"\"\n",
    "import gensim.corpora as corpora\n",
    "from gensim.utils import simple_preprocess\n",
    "from gensim.models import CoherenceModel\n",
    "\n",
    "# spacy for lemmatization\n",
    "import spacy\n",
    "\"\"\"a library for advanced Natural Language Processing in Python\n",
    "and Cython\n",
    "\"\"\"\n",
    "\n",
    "# Plotting tools\n",
    "import pyLDAvis\n",
    "\"\"\"library for interactive topic model visualization.\n",
    "\"\"\"\n",
    "import pyLDAvis.gensim\n",
    "import matplotlib.pyplot as plt\n",
    "%matplotlib inline\n",
    "\n",
    "# Logging for gensim\n",
    "import logging\n",
    "logging.basicConfig(format='%(asctime)s : %(levelname)s', level=logging.ERROR)\n",
    "\n",
    "import warnings\n",
    "warnings.filterwarnings(\"ignore\", category=DeprecationWarning)\n",
    "\n",
    "# NLTK Stop words\n",
    "from nltk.corpus import stopwords\n",
    "stop_words = stopwords.words('english')\n",
    "stop_words.extend(['from', 'subject', 're', 'edu', 'use'])\n"
   ]
  },
  {
   "cell_type": "markdown",
   "metadata": {},
   "source": [
    "\n",
    "## <u> [1] Data Pre-proccessing:</u>\n"
   ]
  },
  {
   "cell_type": "markdown",
   "metadata": {},
   "source": [
    "[1.1]  __Importing Data and Peeking at what we have__"
   ]
  },
  {
   "cell_type": "code",
   "execution_count": 3,
   "metadata": {},
   "outputs": [
    {
     "name": "stdout",
     "output_type": "stream",
     "text": [
      "['rec.autos' 'comp.sys.mac.hardware' 'rec.motorcycles' 'misc.forsale'\n",
      " 'comp.os.ms-windows.misc' 'alt.atheism' 'comp.graphics'\n",
      " 'rec.sport.baseball' 'rec.sport.hockey' 'sci.electronics' 'sci.space'\n",
      " 'talk.politics.misc' 'sci.med' 'talk.politics.mideast'\n",
      " 'soc.religion.christian' 'comp.windows.x' 'comp.sys.ibm.pc.hardware'\n",
      " 'talk.politics.guns' 'talk.religion.misc' 'sci.crypt']\n",
      "\n",
      "Data Overview is :                                                content  target  \\\n",
      "0     From: lerxst@wam.umd.edu (where's my thing)\\nS...       7   \n",
      "1     From: guykuo@carson.u.washington.edu (Guy Kuo)...       4   \n",
      "10    From: irwin@cmptrc.lonestar.org (Irwin Arnstei...       8   \n",
      "100   From: tchen@magnus.acs.ohio-state.edu (Tsung-K...       6   \n",
      "1000  From: dabl2@nlm.nih.gov (Don A.B. Lindbergh)\\n...       2   \n",
      "\n",
      "                 target_names  \n",
      "0                   rec.autos  \n",
      "1       comp.sys.mac.hardware  \n",
      "10            rec.motorcycles  \n",
      "100              misc.forsale  \n",
      "1000  comp.os.ms-windows.misc  \n",
      "\n",
      "Data Shape is :(11314, 3)\n"
     ]
    }
   ],
   "source": [
    "# load Dataset\n",
    "df = pd.read_json('https://raw.githubusercontent.com/selva86/datasets/master/newsgroups.json')\n",
    "\n",
    "print(df.target_names.unique())\n",
    "print(\"\\nData Overview is :{}\".format(df.head()))\n",
    "print(\"\\nData Shape is :{}\".format(df.shape))"
   ]
  },
  {
   "cell_type": "markdown",
   "metadata": {},
   "source": [
    "### Pre-Processing\n",
    "\n",
    "[1.2] __Removing unwanted text and converting to list__"
   ]
  },
  {
   "cell_type": "code",
   "execution_count": 4,
   "metadata": {},
   "outputs": [
    {
     "name": "stdout",
     "output_type": "stream",
     "text": [
      "[\"From: (where's my thing) Subject: WHAT car is this!? Nntp-Posting-Host: \"\n",
      " 'rac3.wam.umd.edu Organization: University of Maryland, College Park Lines: '\n",
      " '15 I was wondering if anyone out there could enlighten me on this car I saw '\n",
      " 'the other day. It was a 2-door sports car, looked to be from the late 60s/ '\n",
      " 'early 70s. It was called a Bricklin. The doors were really small. In '\n",
      " 'addition, the front bumper was separate from the rest of the body. This is '\n",
      " 'all I know. If anyone can tellme a model name, engine specs, years of '\n",
      " 'production, where this car is made, history, or whatever info you have on '\n",
      " 'this funky looking car, please e-mail. Thanks, - IL ---- brought to you by '\n",
      " 'your neighborhood Lerxst ---- ']\n"
     ]
    }
   ],
   "source": [
    "# convert to list\n",
    "data = df.content.values.tolist()\n",
    "\n",
    "# remove emails\n",
    "data = [re.sub('\\S*@\\S*\\s?', '', sent) for sent in data]\n",
    "\n",
    "# remove newline characters\n",
    "data = [re.sub('\\s+', ' ', sent) for sent in data]\n",
    "\n",
    "# remove distracting slingle quotes\n",
    "data = [re.sub(\"\\''\", \"\", sent) for sent in data]\n",
    "\n",
    "pprint(data[:1])\n"
   ]
  },
  {
   "cell_type": "markdown",
   "metadata": {},
   "source": [
    "[1.3] __Tokenize Sentence into a list of words__"
   ]
  },
  {
   "cell_type": "code",
   "execution_count": 5,
   "metadata": {},
   "outputs": [
    {
     "name": "stdout",
     "output_type": "stream",
     "text": [
      "[['from', 'where', 'my', 'thing', 'subject', 'what', 'car', 'is', 'this', 'nntp', 'posting', 'host', 'rac', 'wam', 'umd', 'edu', 'organization', 'university', 'of', 'maryland', 'college', 'park', 'lines', 'was', 'wondering', 'if', 'anyone', 'out', 'there', 'could', 'enlighten', 'me', 'on', 'this', 'car', 'saw', 'the', 'other', 'day', 'it', 'was', 'door', 'sports', 'car', 'looked', 'to', 'be', 'from', 'the', 'late', 'early', 'it', 'was', 'called', 'bricklin', 'the', 'doors', 'were', 'really', 'small', 'in', 'addition', 'the', 'front', 'bumper', 'was', 'separate', 'from', 'the', 'rest', 'of', 'the', 'body', 'this', 'is', 'all', 'know', 'if', 'anyone', 'can', 'tellme', 'model', 'name', 'engine', 'specs', 'years', 'of', 'production', 'where', 'this', 'car', 'is', 'made', 'history', 'or', 'whatever', 'info', 'you', 'have', 'on', 'this', 'funky', 'looking', 'car', 'please', 'mail', 'thanks', 'il', 'brought', 'to', 'you', 'by', 'your', 'neighborhood', 'lerxst']]\n"
     ]
    }
   ],
   "source": [
    "def sent_to_words(sentences):\n",
    "    for sentence in sentences:\n",
    "        yield(simple_preprocess(str(sentence), deacc=True)) # deacc=True to remove punctuation \n",
    "\n",
    "data_words = list(sent_to_words(data))\n",
    "\n",
    "print(data_words[:1])"
   ]
  },
  {
   "cell_type": "markdown",
   "metadata": {},
   "source": [
    "[1.4] __Bigrams and Trigrams Models__\n",
    "\n",
    "- Bigrams: *two words that frequently occur together in a document*\n",
    "- Trigrams: *Three words that frequently occur together in a document*"
   ]
  },
  {
   "cell_type": "code",
   "execution_count": 6,
   "metadata": {},
   "outputs": [
    {
     "name": "stdout",
     "output_type": "stream",
     "text": [
      "['from', 'where', 'my', 'thing', 'subject', 'what', 'car', 'is', 'this', 'nntp_posting_host', 'rac_wam_umd_edu', 'organization', 'university', 'of', 'maryland_college_park', 'lines', 'was', 'wondering', 'if', 'anyone', 'out', 'there', 'could', 'enlighten', 'me', 'on', 'this', 'car', 'saw', 'the', 'other', 'day', 'it', 'was', 'door', 'sports', 'car', 'looked', 'to', 'be', 'from', 'the', 'late', 'early', 'it', 'was', 'called', 'bricklin', 'the', 'doors', 'were', 'really', 'small', 'in', 'addition', 'the', 'front_bumper', 'was', 'separate', 'from', 'the', 'rest', 'of', 'the', 'body', 'this', 'is', 'all', 'know', 'if', 'anyone', 'can', 'tellme', 'model', 'name', 'engine', 'specs', 'years', 'of', 'production', 'where', 'this', 'car', 'is', 'made', 'history', 'or', 'whatever', 'info', 'you', 'have', 'on', 'this', 'funky', 'looking', 'car', 'please', 'mail', 'thanks', 'il', 'brought', 'to', 'you', 'by', 'your', 'neighborhood', 'lerxst']\n"
     ]
    }
   ],
   "source": [
    "from gensim.models import Phrases\n",
    "from gensim.models.phrases import Phraser\n",
    "\n",
    "bigram = Phrases(data_words, min_count=5, threshold=100) # higher threshold with fewer phrases\n",
    "trigram = Phrases(bigram[data_words], threshold=100)\n",
    "\n",
    "# get a sentence clubbed as bigram/trigram\n",
    "bigram_mod = Phraser(bigram)\n",
    "trigram_mod = Phraser(trigram)\n",
    "\n",
    "# preview trigram \n",
    "print(trigram_mod[bigram_mod[data_words[0]]])"
   ]
  },
  {
   "cell_type": "markdown",
   "metadata": {},
   "source": [
    "[1.5] __Removing Stopwords, making Bigrams and Lemmatize__ functions"
   ]
  },
  {
   "cell_type": "code",
   "execution_count": 7,
   "metadata": {},
   "outputs": [],
   "source": [
    "def remove_stopwords(texts):\n",
    "    return [[word for word in simple_preprocess(str(doc)) \n",
    "            if word not in stop_words] for doc in texts]\n",
    "\n",
    "def make_bigrams(texts):\n",
    "    return [bigram_mod[doc] for doc in texts]\n",
    "\n",
    "def make_trigrams(texts):\n",
    "    return [trigram_mod[bigram_mod[doc]] for doc in texts]\n",
    "\n",
    "def lemmatization(texts, allowed_postags=['NOUN', 'ADJ', 'VERB', 'ADV']):\n",
    "    \"\"\"annotations from spacy\"\"\"\n",
    "    texts_out = []\n",
    "    for sent in texts:\n",
    "        doc =nlp(\" \".join(sent))\n",
    "        texts_out.append([token.lemma_ for token in doc if token.pos_ in allowed_postags])\n",
    "    return texts_out"
   ]
  },
  {
   "cell_type": "markdown",
   "metadata": {},
   "source": [
    "[1.6] __Initialize Spacy model__\n",
    "\n",
    "- `pip install -U spacy`\n",
    "- `python -m spacy download en`\n",
    "\n",
    "****After installation you need to download a language model. ****"
   ]
  },
  {
   "cell_type": "code",
   "execution_count": 8,
   "metadata": {},
   "outputs": [
    {
     "name": "stdout",
     "output_type": "stream",
     "text": [
      "[['thing', 'car', 'nntp_poste', 'host', 'umd', 'organization', 'university', 'maryland_college', 'park', 'line', 'wonder', 'anyone', 'could', 'enlighten', 'car', 'see', 'day', 'door', 'sport', 'car', 'look', 'call', 'bricklin', 'door', 'small', 'addition', 'front_bumper', 'separate', 'rest', 'body', 'know', 'anyone', 'tellme', 'model', 'name', 'engine', 'specs', 'year', 'production', 'car', 'make', 'history', 'info', 'funky', 'look', 'car', 'mail', 'thank', 'bring', 'neighborhood']]\n"
     ]
    }
   ],
   "source": [
    "# remove stop words\n",
    "data_words_nostops =remove_stopwords(data_words)\n",
    "\n",
    "# Form Bigrams\n",
    "data_words_bigrams = make_bigrams(data_words_nostops)\n",
    "\n",
    "# Initializing spacy 'en' model for efficiency\n",
    "nlp = spacy.load('en', disable=['parser', 'ner'])\n",
    "\n",
    "# Lemmatization keeping only noun, adj, vb, adv\n",
    "\n",
    "data_lemmatized = lemmatization(data_words_bigrams, allowed_postags=['NOUN', 'ADJ', 'VERB', 'ADJ'])\n",
    "\n",
    "\n",
    "print(data_lemmatized[:1])"
   ]
  },
  {
   "cell_type": "markdown",
   "metadata": {},
   "source": [
    "[1.7] __Creating a dictionary and Corpus needed for Topic Modelling__\n",
    "\n",
    "**NB:** \n",
    "<u>Main inputs to the LDA are:</u>\n",
    "<ol>\n",
    "    <li>Dictionary <em>(id2word)</em></li>\n",
    "    <li>Corpus</li>\n",
    "</ol>\n",
    "\n",
    "Gensim creates id for each word in a document, a produced corpus is a mapping of the [word_id, word_frequency]"
   ]
  },
  {
   "cell_type": "code",
   "execution_count": 9,
   "metadata": {},
   "outputs": [
    {
     "name": "stdout",
     "output_type": "stream",
     "text": [
      "[[(0, 1), (1, 2), (2, 1), (3, 1), (4, 1), (5, 1), (6, 5), (7, 1), (8, 1), (9, 2), (10, 1), (11, 1), (12, 1), (13, 1), (14, 1), (15, 1), (16, 1), (17, 1), (18, 1), (19, 2), (20, 1), (21, 1), (22, 1), (23, 1), (24, 1), (25, 1), (26, 1), (27, 1), (28, 1), (29, 1), (30, 1), (31, 1), (32, 1), (33, 1), (34, 1), (35, 1), (36, 1), (37, 1), (38, 1), (39, 1), (40, 1), (41, 1), (42, 1)]]\n"
     ]
    }
   ],
   "source": [
    "# Dictionary\n",
    "id2word = corpora.Dictionary(data_lemmatized)\n",
    "\n",
    "# corpus\n",
    "texts = data_lemmatized\n",
    "\n",
    "# Term Document frequency\n",
    "corpus = [id2word.doc2bow(text) for text in texts]\n",
    "\n",
    "print(corpus[:1])"
   ]
  },
  {
   "cell_type": "code",
   "execution_count": 11,
   "metadata": {},
   "outputs": [
    {
     "name": "stdout",
     "output_type": "stream",
     "text": [
      "The word: funky, corresponds to the ID:13\n",
      "\n",
      "Human readable representation:\n",
      " [[('addition', 1), ('anyone', 2), ('body', 1), ('bricklin', 1), ('bring', 1), ('call', 1), ('car', 5), ('could', 1), ('day', 1), ('door', 2), ('engine', 1), ('enlighten', 1), ('front_bumper', 1), ('funky', 1), ('history', 1), ('host', 1), ('info', 1), ('know', 1), ('line', 1), ('look', 2), ('mail', 1), ('make', 1), ('maryland_college', 1), ('model', 1), ('name', 1), ('neighborhood', 1), ('nntp_poste', 1), ('organization', 1), ('park', 1), ('production', 1), ('rest', 1), ('see', 1), ('separate', 1), ('small', 1), ('specs', 1), ('sport', 1), ('tellme', 1), ('thank', 1), ('thing', 1), ('umd', 1), ('university', 1), ('wonder', 1), ('year', 1)]]\n"
     ]
    }
   ],
   "source": [
    "# to see what word an id corresponds to\n",
    "print(\"The word: {}, corresponds to the ID:13\\n\".format(id2word[13]))\n",
    "\n",
    "# human readbale representation\n",
    "print(\"Human readable representation:\\n\", [[(id2word[id], freq) for id, freq in cp] for cp in corpus[:1]])"
   ]
  },
  {
   "cell_type": "markdown",
   "metadata": {},
   "source": [
    "\n",
    "## <u> [2] Topic Modelling:</u>\n"
   ]
  },
  {
   "cell_type": "markdown",
   "metadata": {},
   "source": [
    "[2.1] __Building lda topic model using gensim models__\n",
    "__Model Details:__\n",
    "- built with 20 different topics\n",
    "- each topic is a compination of keywords\n",
    "- each keymword contributes a certain weightage to the topic"
   ]
  },
  {
   "cell_type": "code",
   "execution_count": 13,
   "metadata": {},
   "outputs": [],
   "source": [
    "# LDA Model\n",
    "lda_model = LdaModel(corpus=corpus, id2word=id2word, num_topics=20, random_state=100, update_every=1,\n",
    "                    chunksize=100, passes=10, alpha='auto', per_word_topics=True)"
   ]
  },
  {
   "cell_type": "markdown",
   "metadata": {},
   "source": [
    "[2.1] __View the topics detected by LDA model__"
   ]
  },
  {
   "cell_type": "code",
   "execution_count": 15,
   "metadata": {},
   "outputs": [
    {
     "name": "stdout",
     "output_type": "stream",
     "text": [
      "[(0,\n",
      "  '0.061*\"game\" + 0.059*\"team\" + 0.039*\"win\" + 0.039*\"year\" + 0.039*\"play\" + '\n",
      "  '0.033*\"player\" + 0.022*\"season\" + 0.020*\"bike\" + 0.015*\"score\" + '\n",
      "  '0.014*\"division\"'),\n",
      " (1,\n",
      "  '0.071*\"command\" + 0.035*\"quadra\" + 0.028*\"instruction\" + 0.026*\"centris\" + '\n",
      "  '0.020*\"berkeley\" + 0.013*\"rom\" + 0.010*\"rewrite\" + 0.010*\"web\" + '\n",
      "  '0.009*\"dale\" + 0.008*\"california_berkeley\"'),\n",
      " (2,\n",
      "  '0.089*\"israel\" + 0.062*\"israeli\" + 0.052*\"rise\" + 0.051*\"peter\" + '\n",
      "  '0.042*\"arab\" + 0.031*\"satellite\" + 0.031*\"center\" + 0.023*\"spacecraft\" + '\n",
      "  '0.020*\"wide\" + 0.017*\"april\"'),\n",
      " (3,\n",
      "  '0.782*\"ax\" + 0.056*\"max\" + 0.013*\"hockey\" + 0.008*\"goal\" + 0.007*\"fan\" + '\n",
      "  '0.006*\"oil\" + 0.005*\"canadian\" + 0.005*\"sport\" + 0.004*\"count\" + '\n",
      "  '0.004*\"playoff\"'),\n",
      " (4,\n",
      "  '0.105*\"sale\" + 0.098*\"price\" + 0.073*\"sell\" + 0.036*\"air\" + 0.027*\"hall\" + '\n",
      "  '0.024*\"quality\" + 0.024*\"printer\" + 0.018*\"cd\" + 0.017*\"yesterday\" + '\n",
      "  '0.013*\"production\"'),\n",
      " (5,\n",
      "  '0.041*\"gay\" + 0.039*\"mhz\" + 0.038*\"illinoi\" + 0.038*\"marriage\" + '\n",
      "  '0.037*\"homosexual\" + 0.027*\"jeff\" + 0.026*\"shipping\" + 0.026*\"marry\" + '\n",
      "  '0.025*\"urbana\" + 0.020*\"music\"'),\n",
      " (6,\n",
      "  '0.069*\"gun\" + 0.068*\"law\" + 0.038*\"government\" + 0.032*\"state\" + '\n",
      "  '0.029*\"criminal\" + 0.025*\"right\" + 0.022*\"protect\" + 0.022*\"police\" + '\n",
      "  '0.022*\"crime\" + 0.019*\"weapon\"'),\n",
      " (7,\n",
      "  '0.041*\"circuit\" + 0.032*\"committee\" + 0.030*\"electronic\" + 0.029*\"print\" + '\n",
      "  '0.023*\"link\" + 0.021*\"establish\" + 0.020*\"wave\" + 0.020*\"publication\" + '\n",
      "  '0.020*\"interface\" + 0.019*\"data\"'),\n",
      " (8,\n",
      "  '0.039*\"card\" + 0.038*\"information\" + 0.035*\"mail\" + 0.035*\"file\" + '\n",
      "  '0.026*\"info\" + 0.024*\"send\" + 0.023*\"email\" + 0.023*\"standard\" + '\n",
      "  '0.022*\"chip\" + 0.019*\"post\"'),\n",
      " (9,\n",
      "  '0.030*\"would\" + 0.026*\"go\" + 0.022*\"get\" + 0.021*\"know\" + 0.019*\"time\" + '\n",
      "  '0.019*\"say\" + 0.019*\"think\" + 0.017*\"see\" + 0.017*\"make\" + 0.016*\"good\"'),\n",
      " (10,\n",
      "  '0.059*\"unix\" + 0.047*\"michigan\" + 0.043*\"pat\" + 0.035*\"risk\" + '\n",
      "  '0.033*\"multi\" + 0.021*\"monthly\" + 0.021*\"alaska\" + 0.017*\"minimum\" + '\n",
      "  '0.014*\"jack\" + 0.012*\"fre\"'),\n",
      " (11,\n",
      "  '0.135*\"key\" + 0.050*\"encryption\" + 0.035*\"clipper\" + 0.030*\"algorithm\" + '\n",
      "  '0.029*\"security\" + 0.024*\"secure\" + 0.024*\"traffic\" + 0.022*\"secret\" + '\n",
      "  '0.021*\"nsa\" + 0.019*\"technology\"'),\n",
      " (12,\n",
      "  '0.074*\"car\" + 0.032*\"canada\" + 0.025*\"road\" + 0.023*\"wait\" + 0.023*\"prove\" '\n",
      "  '+ 0.022*\"charge\" + 0.021*\"push\" + 0.019*\"arrest\" + 0.017*\"practice\" + '\n",
      "  '0.016*\"germany\"'),\n",
      " (13,\n",
      "  '0.026*\"use\" + 0.019*\"system\" + 0.013*\"window\" + 0.013*\"work\" + '\n",
      "  '0.013*\"problem\" + 0.012*\"run\" + 0.012*\"drive\" + 0.012*\"need\" + 0.011*\"new\" '\n",
      "  '+ 0.010*\"bit\"'),\n",
      " (14,\n",
      "  '0.059*\"president\" + 0.054*\"american\" + 0.048*\"government\" + '\n",
      "  '0.031*\"national\" + 0.023*\"vote\" + 0.022*\"russian\" + 0.018*\"limit\" + '\n",
      "  '0.017*\"decision\" + 0.015*\"military\" + 0.015*\"country\"'),\n",
      " (15,\n",
      "  '0.125*\"line\" + 0.113*\"organization\" + 0.088*\"write\" + 0.075*\"article\" + '\n",
      "  '0.051*\"university\" + 0.041*\"host\" + 0.026*\"reply\" + 0.026*\"anyone\" + '\n",
      "  '0.025*\"nntp_poste\" + 0.021*\"nntp_posting\"'),\n",
      " (16,\n",
      "  '0.070*\"dealer\" + 0.033*\"diet\" + 0.026*\"serial_number\" + 0.019*\"exe\" + '\n",
      "  '0.019*\"replacement\" + 0.014*\"reset\" + 0.011*\"odometer\" + 0.011*\"cartridge\" '\n",
      "  '+ 0.009*\"mileage\" + 0.006*\"meat\"'),\n",
      " (17,\n",
      "  '0.085*\"option\" + 0.068*\"tax\" + 0.051*\"station\" + 0.025*\"roman\" + '\n",
      "  '0.020*\"advertising\" + 0.016*\"space_station\" + 0.015*\"s\" + 0.012*\"advertise\" '\n",
      "  '+ 0.012*\"reagan\" + 0.007*\"precision\"'),\n",
      " (18,\n",
      "  '0.129*\"space\" + 0.061*\"image\" + 0.051*\"cover\" + 0.038*\"disk\" + 0.037*\"sun\" '\n",
      "  '+ 0.035*\"package\" + 0.023*\"boston\" + 0.021*\"orbit\" + 0.020*\"material\" + '\n",
      "  '0.020*\"earth\"'),\n",
      " (19,\n",
      "  '0.013*\"say\" + 0.013*\"people\" + 0.011*\"believe\" + 0.011*\"god\" + 0.009*\"mean\" '\n",
      "  '+ 0.009*\"christian\" + 0.009*\"may\" + 0.008*\"life\" + 0.008*\"question\" + '\n",
      "  '0.008*\"fact\"')]\n"
     ]
    }
   ],
   "source": [
    "pprint(lda_model.print_topics())\n",
    "doc_lda = lda_model[corpus]"
   ]
  },
  {
   "cell_type": "markdown",
   "metadata": {},
   "source": [
    "__Notes:__\n",
    "- Topics are indexed, hence the `(13, ..)`\n",
    "- each topic include top keywords that contribute to the topic\n",
    "- by looking at the keywords, one can make make assumptions on what topics are being discussed i.e ***Topic 20 might be talking about religion***"
   ]
  },
  {
   "cell_type": "code",
   "execution_count": null,
   "metadata": {},
   "outputs": [],
   "source": []
  }
 ],
 "metadata": {
  "kernelspec": {
   "display_name": "Python 3",
   "language": "python",
   "name": "python3"
  },
  "language_info": {
   "codemirror_mode": {
    "name": "ipython",
    "version": 3
   },
   "file_extension": ".py",
   "mimetype": "text/x-python",
   "name": "python",
   "nbconvert_exporter": "python",
   "pygments_lexer": "ipython3",
   "version": "3.7.3"
  }
 },
 "nbformat": 4,
 "nbformat_minor": 2
}
